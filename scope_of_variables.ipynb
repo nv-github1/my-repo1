{
  "nbformat": 4,
  "nbformat_minor": 0,
  "metadata": {
    "colab": {
      "provenance": [],
      "authorship_tag": "ABX9TyMgs5F5BNkYFP3eNsuB7aNC",
      "include_colab_link": true
    },
    "kernelspec": {
      "name": "python3",
      "display_name": "Python 3"
    },
    "language_info": {
      "name": "python"
    }
  },
  "cells": [
    {
      "cell_type": "markdown",
      "metadata": {
        "id": "view-in-github",
        "colab_type": "text"
      },
      "source": [
        "<a href=\"https://colab.research.google.com/github/nv-github1/my-repo1/blob/master/scope_of_variables.ipynb\" target=\"_parent\"><img src=\"https://colab.research.google.com/assets/colab-badge.svg\" alt=\"Open In Colab\"/></a>"
      ]
    },
    {
      "cell_type": "code",
      "execution_count": 7,
      "metadata": {
        "colab": {
          "base_uri": "https://localhost:8080/"
        },
        "id": "bZxdx2ocZ1J0",
        "outputId": "9983e378-d745-48db-879f-73b85d27ee6a"
      },
      "outputs": [
        {
          "output_type": "stream",
          "name": "stdout",
          "text": [
            "before function call var = 15\n",
            "inside function var  = 30\n",
            "outside function var = 15\n"
          ]
        }
      ],
      "source": [
        "# Define a global variable 'var'\n",
        "var = 15\n",
        "\n",
        "# Print the global variable before the function call\n",
        "print('before function call var =', var)\n",
        "\n",
        "# Define the function 'foo4'\n",
        "def foo4():\n",
        "    # this declares var as a new local variable\n",
        "    var = 6\n",
        "    # Multiply the local variable 'var' by 5\n",
        "    var *= 5\n",
        "    # Print the local variable 'var' inside the function\n",
        "    print('inside function var  =', var)\n",
        "\n",
        "# Call the 'foo4' function\n",
        "foo4()\n",
        "print('outside function var =', var)\n",
        "\n"
      ]
    },
    {
      "cell_type": "code",
      "source": [],
      "metadata": {
        "id": "xIVU9XNhaoW0"
      },
      "execution_count": 7,
      "outputs": []
    }
  ]
}