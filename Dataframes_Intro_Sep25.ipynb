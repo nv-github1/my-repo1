{
  "nbformat": 4,
  "nbformat_minor": 0,
  "metadata": {
    "colab": {
      "provenance": [],
      "authorship_tag": "ABX9TyNP/RG3+6yufc4K8louSIMk",
      "include_colab_link": true
    },
    "kernelspec": {
      "name": "python3",
      "display_name": "Python 3"
    },
    "language_info": {
      "name": "python"
    }
  },
  "cells": [
    {
      "cell_type": "markdown",
      "metadata": {
        "id": "view-in-github",
        "colab_type": "text"
      },
      "source": [
        "<a href=\"https://colab.research.google.com/github/nv-github1/my-repo1/blob/master/Dataframes_Intro_Sep25.ipynb\" target=\"_parent\"><img src=\"https://colab.research.google.com/assets/colab-badge.svg\" alt=\"Open In Colab\"/></a>"
      ]
    },
    {
      "cell_type": "code",
      "execution_count": 10,
      "metadata": {
        "colab": {
          "base_uri": "https://localhost:8080/"
        },
        "id": "UFsDS0Wnf4fh",
        "outputId": "30e370df-cec2-411e-b6e1-d5b3703ca289"
      },
      "outputs": [
        {
          "output_type": "stream",
          "name": "stdout",
          "text": [
            "0     10\n",
            "1     20\n",
            "2     30\n",
            "3     40\n",
            "4     50\n",
            "5     60\n",
            "6     70\n",
            "7     80\n",
            "8     90\n",
            "9    100\n",
            "dtype: int64\n",
            "a     10\n",
            "b     20\n",
            "c     30\n",
            "d     40\n",
            "e     50\n",
            "f     60\n",
            "g     70\n",
            "h     80\n",
            "i     90\n",
            "j    100\n",
            "dtype: int64\n",
            "alice     10\n",
            "bob       20\n",
            "claire    30\n",
            "dave      40\n",
            "elena     50\n",
            "dtype: int64\n",
            "   Student  Score\n",
            "0    Alice     90\n",
            "1      Bob     88\n",
            "2  Charlie     72\n",
            "3    David     98\n",
            "4   Elaine     66\n",
            "\n",
            "With new column:\n",
            "    Student  Score Grade\n",
            "0    Alice     90     B\n",
            "1      Bob     88     C\n",
            "2  Charlie     72     A\n",
            "3    David     98     A\n",
            "4   Elaine     66     D\n",
            "max score:  98\n",
            "mean score: 82.8\n",
            "min score: 66\n",
            "median score: 88.0\n",
            "standard deviation: 13.311649033834989\n",
            "Description : \n",
            "            Score\n",
            "count   5.000000\n",
            "mean   82.800000\n",
            "std    13.311649\n",
            "min    66.000000\n",
            "25%    72.000000\n",
            "50%    88.000000\n",
            "75%    90.000000\n",
            "max    98.000000\n"
          ]
        }
      ],
      "source": [
        "import numpy as np\n",
        "import pandas as pd\n",
        "import matplotlib.pyplot as plt\n",
        "\n",
        "#create a series from a\n",
        "\n",
        "data_1 = [10,20,30,40,50,60,70,80,90,100]\n",
        "series_1 = pd.Series(data_1)\n",
        "print(series_1)\n",
        "\n",
        "#create series with custom index\n",
        "\n",
        "series_2 = pd.Series(data_1, index = ['a','b','c','d','e','f','g','h','i','j'])\n",
        "print(series_2)\n",
        "\n",
        "\n",
        "# create series from dictionary\n",
        "\n",
        "data_3 = {'alice':10, 'bob':20, 'claire':30, 'dave':40, 'elena':50}\n",
        "series_3 = pd.Series(data_3)\n",
        "print(series_3)\n",
        "\n",
        "\n",
        "# using dataframe\n",
        "#initialize an empty dataframe\n",
        "\n",
        "df = pd.DataFrame(columns=['Student', 'Score'])\n",
        "\n",
        "#func to add new student\n",
        "\n",
        "def add_student(df, name, score):\n",
        "    new_id = f\"S{len(df)+1:03d}\"\n",
        "    df.loc[len(df)] = [name, score]\n",
        "    return df\n",
        "\n",
        "#add students\n",
        "\n",
        "df = add_student(df, 'Alice', 90)\n",
        "df = add_student(df, 'Bob', 88)\n",
        "df = add_student(df, 'Charlie', 72)\n",
        "df = add_student(df, 'David', 98)\n",
        "df = add_student(df, 'Elaine', 66)\n",
        "\n",
        "print(df)\n",
        "\n",
        "# add columns\n",
        "df['Grade'] = ['B', 'C', 'A', 'A', 'D']\n",
        "\n",
        "print(\"\\nWith new column:\\n\", df)\n",
        "\n",
        "\n",
        "\n",
        "print (\"max score: \" , df['Score'].max())\n",
        "print(\"mean score:\", df['Score'].mean())\n",
        "print(\"min score:\", df['Score'].min())\n",
        "print(\"median score:\", df['Score'].median())\n",
        "print(\"standard deviation:\", df['Score'].std())\n",
        "\n",
        "print(\"Description : \\n\", df.describe())\n",
        "\n"
      ]
    }
  ]
}