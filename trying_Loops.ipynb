{
  "nbformat": 4,
  "nbformat_minor": 0,
  "metadata": {
    "colab": {
      "provenance": [],
      "authorship_tag": "ABX9TyOFVd1xEuV16oFNRVqunSP7",
      "include_colab_link": true
    },
    "kernelspec": {
      "name": "python3",
      "display_name": "Python 3"
    },
    "language_info": {
      "name": "python"
    }
  },
  "cells": [
    {
      "cell_type": "markdown",
      "metadata": {
        "id": "view-in-github",
        "colab_type": "text"
      },
      "source": [
        "<a href=\"https://colab.research.google.com/github/nv-github1/my-repo1/blob/master/trying_Loops.ipynb\" target=\"_parent\"><img src=\"https://colab.research.google.com/assets/colab-badge.svg\" alt=\"Open In Colab\"/></a>"
      ]
    },
    {
      "cell_type": "code",
      "execution_count": 19,
      "metadata": {
        "colab": {
          "base_uri": "https://localhost:8080/"
        },
        "id": "6bVDkDV_Uz6m",
        "outputId": "6589489a-1949-4974-ca13-e47ecc887103"
      },
      "outputs": [
        {
          "output_type": "stream",
          "name": "stdout",
          "text": [
            "40\n",
            "35\n",
            "30\n",
            "25\n",
            "20\n",
            "15\n",
            "10\n",
            "5\n"
          ]
        }
      ],
      "source": [
        "for i in range(40,0,-5):\n",
        "  print(i)"
      ]
    },
    {
      "cell_type": "code",
      "source": [
        "for i,x in enumerate(\"Hello guys!\"):\n",
        "  print(i,x)\n",
        ""
      ],
      "metadata": {
        "colab": {
          "base_uri": "https://localhost:8080/"
        },
        "id": "gk-uEIQ_VfK-",
        "outputId": "34351494-ab7d-4497-fcdd-1beed0ee771a"
      },
      "execution_count": 20,
      "outputs": [
        {
          "output_type": "stream",
          "name": "stdout",
          "text": [
            "0 H\n",
            "1 e\n",
            "2 l\n",
            "3 l\n",
            "4 o\n",
            "5  \n",
            "6 g\n",
            "7 u\n",
            "8 y\n",
            "9 s\n",
            "10 !\n"
          ]
        }
      ]
    },
    {
      "cell_type": "code",
      "source": [
        "for n in range(1,41):\n",
        "  if n % 3 == 0 and n % 5 == 0:\n",
        "    print(\"fizzbuzz\")\n",
        "  elif n % 3 ==0:\n",
        "    print(\"fizz\")\n",
        "  elif n % 5 ==0:\n",
        "    print(\"buzz\")\n",
        "  else: print(n)"
      ],
      "metadata": {
        "colab": {
          "base_uri": "https://localhost:8080/"
        },
        "id": "4EYjhI9uWCCd",
        "outputId": "61458632-9219-4b55-9802-b301acb4c14d"
      },
      "execution_count": 21,
      "outputs": [
        {
          "output_type": "stream",
          "name": "stdout",
          "text": [
            "1\n",
            "2\n",
            "fizz\n",
            "4\n",
            "buzz\n",
            "fizz\n",
            "7\n",
            "8\n",
            "fizz\n",
            "buzz\n",
            "11\n",
            "fizz\n",
            "13\n",
            "14\n",
            "fizzbuzz\n",
            "16\n",
            "17\n",
            "fizz\n",
            "19\n",
            "buzz\n",
            "fizz\n",
            "22\n",
            "23\n",
            "fizz\n",
            "buzz\n",
            "26\n",
            "fizz\n",
            "28\n",
            "29\n",
            "fizzbuzz\n",
            "31\n",
            "32\n",
            "fizz\n",
            "34\n",
            "buzz\n",
            "fizz\n",
            "37\n",
            "38\n",
            "fizz\n",
            "buzz\n"
          ]
        }
      ]
    },
    {
      "cell_type": "code",
      "source": [
        "x = 12\n",
        "\n",
        "if x > 10:\n",
        "  print(\"greater than 10\")\n",
        "elif x == 10:\n",
        "  print(\"exactly 10\")\n",
        "else:\n",
        "  print(\"less than 10\")\n",
        "\n",
        "# One line conditional\n",
        "age = 17\n",
        "status = \"adult\" if age >= 18 else \"minor\"\n",
        "print(status)\n",
        "\n",
        "nums = [5, 6, 7, 9, 10]\n",
        "for n in nums:\n",
        "  print(n * n)\n",
        "\n",
        "for i in range(5):\n",
        "  print(i)\n",
        "\n",
        "for x in range(2, 18):\n",
        "  print(x)\n",
        "\n",
        "for p in range(10, 0, -2):\n",
        "  print(p)\n",
        "\n",
        "# get index and value\n",
        "for i, x in enumerate(\"python\"):\n",
        "  print(i, x)\n",
        "\n",
        "# Iterate mulitple sequences in parallel\n",
        "names = [\"Ana\", \"Bob\", \"Clifford\"]\n",
        "scores = [90, 95, 92]\n",
        "for name, score in zip(names, scores):\n",
        "  print(name, score)\n",
        "\n",
        "# Dictionary iteration\n",
        "d = {\"a\": 1, \"b\": 2}\n",
        "for key, val, in d.items():\n",
        "  print(key, val)\n",
        "\n",
        "count = 3\n",
        "while count > 0:\n",
        "  print(count)\n",
        "  count -= 1\n",
        "print(\"Blast Off\")\n",
        "\n",
        "n = 37\n",
        "for k in range(2, n):\n",
        "  if n % k == 0:\n",
        "    print(\"Composite, factor:\", k)\n",
        "    break\n",
        "else:\n",
        "  print(\"Prime\")\n",
        "\n",
        "for n in range(1, 31):\n",
        "  if n % 3 == 0 and n % 5 == 0:\n",
        "    print(\"FizzBuzz\")\n",
        "  elif n % 3 == 0:\n",
        "    print(\"Fizz\")\n",
        "  elif n % 5 == 0:\n",
        "    print(\"Buzz\")\n",
        "  else:\n",
        "    print(n)\n",
        "\n",
        "for n in range(1, 31):\n",
        "  out = \"\"\n",
        "  if n % 3 == 0: out += \"Fizz\"\n",
        "  if n % 5 == 0: out += \"Buzz\"\n",
        "  print(out or n)\n",
        "\n",
        "squares = [x*x for x in range(10) if x % 2 == 0]\n",
        "print(squares)\n",
        "\n",
        "labels = [\"even\" if x % 2 == 0 else \"odd\" for x in range(50)]\n",
        "print(labels)\n",
        "\n",
        "text = \"sdfslkflsadjalfjslfjsdfjdadjaldjslkdfjskf\"\n",
        "freq = {ch: text.count(ch) for ch in set(text)}\n",
        "print(freq)"
      ],
      "metadata": {
        "colab": {
          "base_uri": "https://localhost:8080/"
        },
        "id": "aQAGGwd6dNXk",
        "outputId": "970a3744-865d-4f18-d487-540631d74fd3"
      },
      "execution_count": 22,
      "outputs": [
        {
          "output_type": "stream",
          "name": "stdout",
          "text": [
            "greater than 10\n",
            "minor\n",
            "25\n",
            "36\n",
            "49\n",
            "81\n",
            "100\n",
            "0\n",
            "1\n",
            "2\n",
            "3\n",
            "4\n",
            "2\n",
            "3\n",
            "4\n",
            "5\n",
            "6\n",
            "7\n",
            "8\n",
            "9\n",
            "10\n",
            "11\n",
            "12\n",
            "13\n",
            "14\n",
            "15\n",
            "16\n",
            "17\n",
            "10\n",
            "8\n",
            "6\n",
            "4\n",
            "2\n",
            "0 p\n",
            "1 y\n",
            "2 t\n",
            "3 h\n",
            "4 o\n",
            "5 n\n",
            "Ana 90\n",
            "Bob 95\n",
            "Clifford 92\n",
            "a 1\n",
            "b 2\n",
            "3\n",
            "2\n",
            "1\n",
            "Blast Off\n",
            "Prime\n",
            "1\n",
            "2\n",
            "Fizz\n",
            "4\n",
            "Buzz\n",
            "Fizz\n",
            "7\n",
            "8\n",
            "Fizz\n",
            "Buzz\n",
            "11\n",
            "Fizz\n",
            "13\n",
            "14\n",
            "FizzBuzz\n",
            "16\n",
            "17\n",
            "Fizz\n",
            "19\n",
            "Buzz\n",
            "Fizz\n",
            "22\n",
            "23\n",
            "Fizz\n",
            "Buzz\n",
            "26\n",
            "Fizz\n",
            "28\n",
            "29\n",
            "FizzBuzz\n",
            "1\n",
            "2\n",
            "Fizz\n",
            "4\n",
            "Buzz\n",
            "Fizz\n",
            "7\n",
            "8\n",
            "Fizz\n",
            "Buzz\n",
            "11\n",
            "Fizz\n",
            "13\n",
            "14\n",
            "FizzBuzz\n",
            "16\n",
            "17\n",
            "Fizz\n",
            "19\n",
            "Buzz\n",
            "Fizz\n",
            "22\n",
            "23\n",
            "Fizz\n",
            "Buzz\n",
            "26\n",
            "Fizz\n",
            "28\n",
            "29\n",
            "FizzBuzz\n",
            "[0, 4, 16, 36, 64]\n",
            "['even', 'odd', 'even', 'odd', 'even', 'odd', 'even', 'odd', 'even', 'odd', 'even', 'odd', 'even', 'odd', 'even', 'odd', 'even', 'odd', 'even', 'odd', 'even', 'odd', 'even', 'odd', 'even', 'odd', 'even', 'odd', 'even', 'odd', 'even', 'odd', 'even', 'odd', 'even', 'odd', 'even', 'odd', 'even', 'odd', 'even', 'odd', 'even', 'odd', 'even', 'odd', 'even', 'odd', 'even', 'odd']\n",
            "{'f': 7, 'k': 3, 'l': 6, 'a': 4, 'j': 7, 'd': 7, 's': 7}\n"
          ]
        }
      ]
    }
  ]
}